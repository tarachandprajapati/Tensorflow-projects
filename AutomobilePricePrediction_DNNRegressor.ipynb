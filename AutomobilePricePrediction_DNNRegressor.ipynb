{
 "cells": [
  {
   "cell_type": "code",
   "execution_count": 1,
   "metadata": {
    "collapsed": true
   },
   "outputs": [],
   "source": [
    "from __future__ import absolute_import\n",
    "from __future__ import division\n",
    "from __future__ import print_function"
   ]
  },
  {
   "cell_type": "code",
   "execution_count": 2,
   "metadata": {
    "collapsed": true
   },
   "outputs": [],
   "source": [
    "import os\n",
    "import collections\n",
    "import itertools"
   ]
  },
  {
   "cell_type": "code",
   "execution_count": 3,
   "metadata": {
    "collapsed": true
   },
   "outputs": [],
   "source": [
    "import numpy as np\n",
    "import pandas as pd\n",
    "import tensorflow as tf"
   ]
  },
  {
   "cell_type": "code",
   "execution_count": 4,
   "metadata": {
    "collapsed": true
   },
   "outputs": [],
   "source": [
    "from six.moves import urllib"
   ]
  },
  {
   "cell_type": "code",
   "execution_count": 5,
   "metadata": {},
   "outputs": [
    {
     "name": "stdout",
     "output_type": "stream",
     "text": [
      "1.13.1\n",
      "0.22.0\n",
      "1.3.0\n"
     ]
    }
   ],
   "source": [
    "print(np.__version__)\n",
    "print(pd.__version__)\n",
    "print(tf.__version__)"
   ]
  },
  {
   "cell_type": "code",
   "execution_count": 6,
   "metadata": {
    "collapsed": true
   },
   "outputs": [],
   "source": [
    "URL_PATH = \"https://archive.ics.uci.edu/ml/machine-learning-databases/autos/imports-85.data\"\n",
    "\n",
    "DOWNLOADED_FILENAME = \"automobiles.csv\"\n",
    "\n",
    "def download_data():\n",
    "    if not os.path.exists(DOWNLOADED_FILENAME):\n",
    "        filename, _ = urllib.request.urlretrieve(URL_PATH, DOWNLOADED_FILENAME)\n",
    "\n",
    "    print('Found and verified file from this path: ', URL_PATH)\n",
    "    print('Downloaded file: ', DOWNLOADED_FILENAME)        "
   ]
  },
  {
   "cell_type": "code",
   "execution_count": 7,
   "metadata": {},
   "outputs": [
    {
     "name": "stdout",
     "output_type": "stream",
     "text": [
      "Found and verified file from this path:  https://archive.ics.uci.edu/ml/machine-learning-databases/autos/imports-85.data\n",
      "Downloaded file:  automobiles.csv\n"
     ]
    }
   ],
   "source": [
    "download_data()"
   ]
  },
  {
   "cell_type": "code",
   "execution_count": 8,
   "metadata": {
    "collapsed": true
   },
   "outputs": [],
   "source": [
    "COLUMN_TYPES = collections.OrderedDict([\n",
    "    (\"symboling\", int),\n",
    "    (\"normalized-losses\", float),\n",
    "    (\"make\", str),\n",
    "    (\"fuel-type\", str),\n",
    "    (\"aspiration\", str),\n",
    "    (\"num-of-doors\", str),\n",
    "    (\"body-style\", str),\n",
    "    (\"drive-wheels\", str),\n",
    "    (\"engine-location\", str),\n",
    "    (\"wheel-base\", float),\n",
    "    (\"length\", float),\n",
    "    (\"width\", float),\n",
    "    (\"height\", float),\n",
    "    (\"curb-weight\", float),\n",
    "    (\"engine-type\", str),\n",
    "    (\"num-of-cylinders\", str),\n",
    "    (\"engine-size\", float),\n",
    "    (\"fuel-system\", str),\n",
    "    (\"bore\", float),\n",
    "    (\"stroke\", float),\n",
    "    (\"compression-ratio\", float),\n",
    "    (\"horsepower\", float),\n",
    "    (\"peak-rpm\", float),\n",
    "    (\"city-mpg\", float),\n",
    "    (\"highway-mpg\", float),\n",
    "    (\"price\", float)\n",
    "])"
   ]
  },
  {
   "cell_type": "code",
   "execution_count": 9,
   "metadata": {
    "collapsed": true
   },
   "outputs": [],
   "source": [
    "df = pd.read_csv(DOWNLOADED_FILENAME, names=COLUMN_TYPES.keys(),\n",
    "                 dtype=COLUMN_TYPES, na_values=\"?\")"
   ]
  },
  {
   "cell_type": "code",
   "execution_count": 10,
   "metadata": {},
   "outputs": [
    {
     "data": {
      "text/html": [
       "<div>\n",
       "<style scoped>\n",
       "    .dataframe tbody tr th:only-of-type {\n",
       "        vertical-align: middle;\n",
       "    }\n",
       "\n",
       "    .dataframe tbody tr th {\n",
       "        vertical-align: top;\n",
       "    }\n",
       "\n",
       "    .dataframe thead th {\n",
       "        text-align: right;\n",
       "    }\n",
       "</style>\n",
       "<table border=\"1\" class=\"dataframe\">\n",
       "  <thead>\n",
       "    <tr style=\"text-align: right;\">\n",
       "      <th></th>\n",
       "      <th>symboling</th>\n",
       "      <th>normalized-losses</th>\n",
       "      <th>make</th>\n",
       "      <th>fuel-type</th>\n",
       "      <th>aspiration</th>\n",
       "      <th>num-of-doors</th>\n",
       "      <th>body-style</th>\n",
       "      <th>drive-wheels</th>\n",
       "      <th>engine-location</th>\n",
       "      <th>wheel-base</th>\n",
       "      <th>...</th>\n",
       "      <th>engine-size</th>\n",
       "      <th>fuel-system</th>\n",
       "      <th>bore</th>\n",
       "      <th>stroke</th>\n",
       "      <th>compression-ratio</th>\n",
       "      <th>horsepower</th>\n",
       "      <th>peak-rpm</th>\n",
       "      <th>city-mpg</th>\n",
       "      <th>highway-mpg</th>\n",
       "      <th>price</th>\n",
       "    </tr>\n",
       "  </thead>\n",
       "  <tbody>\n",
       "    <tr>\n",
       "      <th>0</th>\n",
       "      <td>3</td>\n",
       "      <td>NaN</td>\n",
       "      <td>alfa-romero</td>\n",
       "      <td>gas</td>\n",
       "      <td>std</td>\n",
       "      <td>two</td>\n",
       "      <td>convertible</td>\n",
       "      <td>rwd</td>\n",
       "      <td>front</td>\n",
       "      <td>88.6</td>\n",
       "      <td>...</td>\n",
       "      <td>130.0</td>\n",
       "      <td>mpfi</td>\n",
       "      <td>3.47</td>\n",
       "      <td>2.68</td>\n",
       "      <td>9.0</td>\n",
       "      <td>111.0</td>\n",
       "      <td>5000.0</td>\n",
       "      <td>21.0</td>\n",
       "      <td>27.0</td>\n",
       "      <td>13495.0</td>\n",
       "    </tr>\n",
       "    <tr>\n",
       "      <th>1</th>\n",
       "      <td>3</td>\n",
       "      <td>NaN</td>\n",
       "      <td>alfa-romero</td>\n",
       "      <td>gas</td>\n",
       "      <td>std</td>\n",
       "      <td>two</td>\n",
       "      <td>convertible</td>\n",
       "      <td>rwd</td>\n",
       "      <td>front</td>\n",
       "      <td>88.6</td>\n",
       "      <td>...</td>\n",
       "      <td>130.0</td>\n",
       "      <td>mpfi</td>\n",
       "      <td>3.47</td>\n",
       "      <td>2.68</td>\n",
       "      <td>9.0</td>\n",
       "      <td>111.0</td>\n",
       "      <td>5000.0</td>\n",
       "      <td>21.0</td>\n",
       "      <td>27.0</td>\n",
       "      <td>16500.0</td>\n",
       "    </tr>\n",
       "    <tr>\n",
       "      <th>2</th>\n",
       "      <td>1</td>\n",
       "      <td>NaN</td>\n",
       "      <td>alfa-romero</td>\n",
       "      <td>gas</td>\n",
       "      <td>std</td>\n",
       "      <td>two</td>\n",
       "      <td>hatchback</td>\n",
       "      <td>rwd</td>\n",
       "      <td>front</td>\n",
       "      <td>94.5</td>\n",
       "      <td>...</td>\n",
       "      <td>152.0</td>\n",
       "      <td>mpfi</td>\n",
       "      <td>2.68</td>\n",
       "      <td>3.47</td>\n",
       "      <td>9.0</td>\n",
       "      <td>154.0</td>\n",
       "      <td>5000.0</td>\n",
       "      <td>19.0</td>\n",
       "      <td>26.0</td>\n",
       "      <td>16500.0</td>\n",
       "    </tr>\n",
       "    <tr>\n",
       "      <th>3</th>\n",
       "      <td>2</td>\n",
       "      <td>164.0</td>\n",
       "      <td>audi</td>\n",
       "      <td>gas</td>\n",
       "      <td>std</td>\n",
       "      <td>four</td>\n",
       "      <td>sedan</td>\n",
       "      <td>fwd</td>\n",
       "      <td>front</td>\n",
       "      <td>99.8</td>\n",
       "      <td>...</td>\n",
       "      <td>109.0</td>\n",
       "      <td>mpfi</td>\n",
       "      <td>3.19</td>\n",
       "      <td>3.40</td>\n",
       "      <td>10.0</td>\n",
       "      <td>102.0</td>\n",
       "      <td>5500.0</td>\n",
       "      <td>24.0</td>\n",
       "      <td>30.0</td>\n",
       "      <td>13950.0</td>\n",
       "    </tr>\n",
       "    <tr>\n",
       "      <th>4</th>\n",
       "      <td>2</td>\n",
       "      <td>164.0</td>\n",
       "      <td>audi</td>\n",
       "      <td>gas</td>\n",
       "      <td>std</td>\n",
       "      <td>four</td>\n",
       "      <td>sedan</td>\n",
       "      <td>4wd</td>\n",
       "      <td>front</td>\n",
       "      <td>99.4</td>\n",
       "      <td>...</td>\n",
       "      <td>136.0</td>\n",
       "      <td>mpfi</td>\n",
       "      <td>3.19</td>\n",
       "      <td>3.40</td>\n",
       "      <td>8.0</td>\n",
       "      <td>115.0</td>\n",
       "      <td>5500.0</td>\n",
       "      <td>18.0</td>\n",
       "      <td>22.0</td>\n",
       "      <td>17450.0</td>\n",
       "    </tr>\n",
       "  </tbody>\n",
       "</table>\n",
       "<p>5 rows × 26 columns</p>\n",
       "</div>"
      ],
      "text/plain": [
       "   symboling  normalized-losses         make fuel-type aspiration  \\\n",
       "0          3                NaN  alfa-romero       gas        std   \n",
       "1          3                NaN  alfa-romero       gas        std   \n",
       "2          1                NaN  alfa-romero       gas        std   \n",
       "3          2              164.0         audi       gas        std   \n",
       "4          2              164.0         audi       gas        std   \n",
       "\n",
       "  num-of-doors   body-style drive-wheels engine-location  wheel-base   ...     \\\n",
       "0          two  convertible          rwd           front        88.6   ...      \n",
       "1          two  convertible          rwd           front        88.6   ...      \n",
       "2          two    hatchback          rwd           front        94.5   ...      \n",
       "3         four        sedan          fwd           front        99.8   ...      \n",
       "4         four        sedan          4wd           front        99.4   ...      \n",
       "\n",
       "   engine-size  fuel-system  bore  stroke compression-ratio horsepower  \\\n",
       "0        130.0         mpfi  3.47    2.68               9.0      111.0   \n",
       "1        130.0         mpfi  3.47    2.68               9.0      111.0   \n",
       "2        152.0         mpfi  2.68    3.47               9.0      154.0   \n",
       "3        109.0         mpfi  3.19    3.40              10.0      102.0   \n",
       "4        136.0         mpfi  3.19    3.40               8.0      115.0   \n",
       "\n",
       "   peak-rpm city-mpg  highway-mpg    price  \n",
       "0    5000.0     21.0         27.0  13495.0  \n",
       "1    5000.0     21.0         27.0  16500.0  \n",
       "2    5000.0     19.0         26.0  16500.0  \n",
       "3    5500.0     24.0         30.0  13950.0  \n",
       "4    5500.0     18.0         22.0  17450.0  \n",
       "\n",
       "[5 rows x 26 columns]"
      ]
     },
     "execution_count": 10,
     "metadata": {},
     "output_type": "execute_result"
    }
   ],
   "source": [
    "df.head()"
   ]
  },
  {
   "cell_type": "code",
   "execution_count": 11,
   "metadata": {},
   "outputs": [
    {
     "data": {
      "text/plain": [
       "symboling            205\n",
       "normalized-losses    164\n",
       "make                 205\n",
       "fuel-type            205\n",
       "aspiration           205\n",
       "num-of-doors         203\n",
       "body-style           205\n",
       "drive-wheels         205\n",
       "engine-location      205\n",
       "wheel-base           205\n",
       "length               205\n",
       "width                205\n",
       "height               205\n",
       "curb-weight          205\n",
       "engine-type          205\n",
       "num-of-cylinders     205\n",
       "engine-size          205\n",
       "fuel-system          205\n",
       "bore                 201\n",
       "stroke               201\n",
       "compression-ratio    205\n",
       "horsepower           203\n",
       "peak-rpm             203\n",
       "city-mpg             205\n",
       "highway-mpg          205\n",
       "price                201\n",
       "dtype: int64"
      ]
     },
     "execution_count": 11,
     "metadata": {},
     "output_type": "execute_result"
    }
   ],
   "source": [
    "df.count()"
   ]
  },
  {
   "cell_type": "code",
   "execution_count": 12,
   "metadata": {
    "collapsed": true
   },
   "outputs": [],
   "source": [
    "df = df.dropna()"
   ]
  },
  {
   "cell_type": "code",
   "execution_count": 13,
   "metadata": {},
   "outputs": [
    {
     "data": {
      "text/plain": [
       "symboling            159\n",
       "normalized-losses    159\n",
       "make                 159\n",
       "fuel-type            159\n",
       "aspiration           159\n",
       "num-of-doors         159\n",
       "body-style           159\n",
       "drive-wheels         159\n",
       "engine-location      159\n",
       "wheel-base           159\n",
       "length               159\n",
       "width                159\n",
       "height               159\n",
       "curb-weight          159\n",
       "engine-type          159\n",
       "num-of-cylinders     159\n",
       "engine-size          159\n",
       "fuel-system          159\n",
       "bore                 159\n",
       "stroke               159\n",
       "compression-ratio    159\n",
       "horsepower           159\n",
       "peak-rpm             159\n",
       "city-mpg             159\n",
       "highway-mpg          159\n",
       "price                159\n",
       "dtype: int64"
      ]
     },
     "execution_count": 13,
     "metadata": {},
     "output_type": "execute_result"
    }
   ],
   "source": [
    "df.count()"
   ]
  },
  {
   "cell_type": "code",
   "execution_count": 14,
   "metadata": {
    "collapsed": true
   },
   "outputs": [],
   "source": [
    "TRIMMED_CSV_COLUMNS = [\n",
    "    \"make\", \"fuel-type\", \"aspiration\", \"num-of-doors\", \"body-style\",\n",
    "    \"drive-wheels\", \"curb-weight\", \"engine-type\", \"num-of-cylinders\", \"engine-size\",\n",
    "    \"fuel-system\", \"horsepower\", \"peak-rpm\", \"city-mpg\", \"highway-mpg\", \"price\"\n",
    "]"
   ]
  },
  {
   "cell_type": "code",
   "execution_count": 15,
   "metadata": {
    "collapsed": true
   },
   "outputs": [],
   "source": [
    "df = df[TRIMMED_CSV_COLUMNS]"
   ]
  },
  {
   "cell_type": "code",
   "execution_count": 16,
   "metadata": {},
   "outputs": [
    {
     "data": {
      "text/html": [
       "<div>\n",
       "<style scoped>\n",
       "    .dataframe tbody tr th:only-of-type {\n",
       "        vertical-align: middle;\n",
       "    }\n",
       "\n",
       "    .dataframe tbody tr th {\n",
       "        vertical-align: top;\n",
       "    }\n",
       "\n",
       "    .dataframe thead th {\n",
       "        text-align: right;\n",
       "    }\n",
       "</style>\n",
       "<table border=\"1\" class=\"dataframe\">\n",
       "  <thead>\n",
       "    <tr style=\"text-align: right;\">\n",
       "      <th></th>\n",
       "      <th>make</th>\n",
       "      <th>fuel-type</th>\n",
       "      <th>aspiration</th>\n",
       "      <th>num-of-doors</th>\n",
       "      <th>body-style</th>\n",
       "      <th>drive-wheels</th>\n",
       "      <th>curb-weight</th>\n",
       "      <th>engine-type</th>\n",
       "      <th>num-of-cylinders</th>\n",
       "      <th>engine-size</th>\n",
       "      <th>fuel-system</th>\n",
       "      <th>horsepower</th>\n",
       "      <th>peak-rpm</th>\n",
       "      <th>city-mpg</th>\n",
       "      <th>highway-mpg</th>\n",
       "      <th>price</th>\n",
       "    </tr>\n",
       "  </thead>\n",
       "  <tbody>\n",
       "    <tr>\n",
       "      <th>3</th>\n",
       "      <td>audi</td>\n",
       "      <td>gas</td>\n",
       "      <td>std</td>\n",
       "      <td>four</td>\n",
       "      <td>sedan</td>\n",
       "      <td>fwd</td>\n",
       "      <td>2337.0</td>\n",
       "      <td>ohc</td>\n",
       "      <td>four</td>\n",
       "      <td>109.0</td>\n",
       "      <td>mpfi</td>\n",
       "      <td>102.0</td>\n",
       "      <td>5500.0</td>\n",
       "      <td>24.0</td>\n",
       "      <td>30.0</td>\n",
       "      <td>13950.0</td>\n",
       "    </tr>\n",
       "    <tr>\n",
       "      <th>4</th>\n",
       "      <td>audi</td>\n",
       "      <td>gas</td>\n",
       "      <td>std</td>\n",
       "      <td>four</td>\n",
       "      <td>sedan</td>\n",
       "      <td>4wd</td>\n",
       "      <td>2824.0</td>\n",
       "      <td>ohc</td>\n",
       "      <td>five</td>\n",
       "      <td>136.0</td>\n",
       "      <td>mpfi</td>\n",
       "      <td>115.0</td>\n",
       "      <td>5500.0</td>\n",
       "      <td>18.0</td>\n",
       "      <td>22.0</td>\n",
       "      <td>17450.0</td>\n",
       "    </tr>\n",
       "    <tr>\n",
       "      <th>6</th>\n",
       "      <td>audi</td>\n",
       "      <td>gas</td>\n",
       "      <td>std</td>\n",
       "      <td>four</td>\n",
       "      <td>sedan</td>\n",
       "      <td>fwd</td>\n",
       "      <td>2844.0</td>\n",
       "      <td>ohc</td>\n",
       "      <td>five</td>\n",
       "      <td>136.0</td>\n",
       "      <td>mpfi</td>\n",
       "      <td>110.0</td>\n",
       "      <td>5500.0</td>\n",
       "      <td>19.0</td>\n",
       "      <td>25.0</td>\n",
       "      <td>17710.0</td>\n",
       "    </tr>\n",
       "    <tr>\n",
       "      <th>8</th>\n",
       "      <td>audi</td>\n",
       "      <td>gas</td>\n",
       "      <td>turbo</td>\n",
       "      <td>four</td>\n",
       "      <td>sedan</td>\n",
       "      <td>fwd</td>\n",
       "      <td>3086.0</td>\n",
       "      <td>ohc</td>\n",
       "      <td>five</td>\n",
       "      <td>131.0</td>\n",
       "      <td>mpfi</td>\n",
       "      <td>140.0</td>\n",
       "      <td>5500.0</td>\n",
       "      <td>17.0</td>\n",
       "      <td>20.0</td>\n",
       "      <td>23875.0</td>\n",
       "    </tr>\n",
       "    <tr>\n",
       "      <th>10</th>\n",
       "      <td>bmw</td>\n",
       "      <td>gas</td>\n",
       "      <td>std</td>\n",
       "      <td>two</td>\n",
       "      <td>sedan</td>\n",
       "      <td>rwd</td>\n",
       "      <td>2395.0</td>\n",
       "      <td>ohc</td>\n",
       "      <td>four</td>\n",
       "      <td>108.0</td>\n",
       "      <td>mpfi</td>\n",
       "      <td>101.0</td>\n",
       "      <td>5800.0</td>\n",
       "      <td>23.0</td>\n",
       "      <td>29.0</td>\n",
       "      <td>16430.0</td>\n",
       "    </tr>\n",
       "  </tbody>\n",
       "</table>\n",
       "</div>"
      ],
      "text/plain": [
       "    make fuel-type aspiration num-of-doors body-style drive-wheels  \\\n",
       "3   audi       gas        std         four      sedan          fwd   \n",
       "4   audi       gas        std         four      sedan          4wd   \n",
       "6   audi       gas        std         four      sedan          fwd   \n",
       "8   audi       gas      turbo         four      sedan          fwd   \n",
       "10   bmw       gas        std          two      sedan          rwd   \n",
       "\n",
       "    curb-weight engine-type num-of-cylinders  engine-size fuel-system  \\\n",
       "3        2337.0         ohc             four        109.0        mpfi   \n",
       "4        2824.0         ohc             five        136.0        mpfi   \n",
       "6        2844.0         ohc             five        136.0        mpfi   \n",
       "8        3086.0         ohc             five        131.0        mpfi   \n",
       "10       2395.0         ohc             four        108.0        mpfi   \n",
       "\n",
       "    horsepower  peak-rpm  city-mpg  highway-mpg    price  \n",
       "3        102.0    5500.0      24.0         30.0  13950.0  \n",
       "4        115.0    5500.0      18.0         22.0  17450.0  \n",
       "6        110.0    5500.0      19.0         25.0  17710.0  \n",
       "8        140.0    5500.0      17.0         20.0  23875.0  \n",
       "10       101.0    5800.0      23.0         29.0  16430.0  "
      ]
     },
     "execution_count": 16,
     "metadata": {},
     "output_type": "execute_result"
    }
   ],
   "source": [
    "df.head()"
   ]
  },
  {
   "cell_type": "code",
   "execution_count": 17,
   "metadata": {
    "collapsed": true
   },
   "outputs": [],
   "source": [
    "Y_NAME = \"price\"\n",
    "\n",
    "def get_training_test_prediction_data(df):\n",
    "    \n",
    "    # Generate a unique shuffle each time\n",
    "    np.random.seed(None)\n",
    "\n",
    "    # Split the data into train/test subsets.\n",
    "    x_train = df.sample(frac=0.8, random_state=None)\n",
    "    \n",
    "    # Remove the training data from the original dataset\n",
    "    x_test = df.drop(x_train.index)\n",
    "    \n",
    "    # Choose a small sample from the test data for prediction\n",
    "    x_predict = x_test.sample(frac=0.2, random_state=None)\n",
    "    \n",
    "    # Extract the label from the features DataFrame.\n",
    "    y_train = x_train.pop(Y_NAME)\n",
    "    y_test = x_test.pop(Y_NAME)\n",
    "    y_predict = x_predict.pop(Y_NAME)\n",
    "    \n",
    "    return (x_train, y_train), (x_test, y_test), (x_predict, y_predict) "
   ]
  },
  {
   "cell_type": "code",
   "execution_count": 18,
   "metadata": {
    "collapsed": true
   },
   "outputs": [],
   "source": [
    "(x_train, y_train), (x_test, y_test), (x_predict, y_predict) = \\\n",
    "    get_training_test_prediction_data(df)"
   ]
  },
  {
   "cell_type": "code",
   "execution_count": 19,
   "metadata": {},
   "outputs": [
    {
     "data": {
      "text/html": [
       "<div>\n",
       "<style scoped>\n",
       "    .dataframe tbody tr th:only-of-type {\n",
       "        vertical-align: middle;\n",
       "    }\n",
       "\n",
       "    .dataframe tbody tr th {\n",
       "        vertical-align: top;\n",
       "    }\n",
       "\n",
       "    .dataframe thead th {\n",
       "        text-align: right;\n",
       "    }\n",
       "</style>\n",
       "<table border=\"1\" class=\"dataframe\">\n",
       "  <thead>\n",
       "    <tr style=\"text-align: right;\">\n",
       "      <th></th>\n",
       "      <th>make</th>\n",
       "      <th>fuel-type</th>\n",
       "      <th>aspiration</th>\n",
       "      <th>num-of-doors</th>\n",
       "      <th>body-style</th>\n",
       "      <th>drive-wheels</th>\n",
       "      <th>curb-weight</th>\n",
       "      <th>engine-type</th>\n",
       "      <th>num-of-cylinders</th>\n",
       "      <th>engine-size</th>\n",
       "      <th>fuel-system</th>\n",
       "      <th>horsepower</th>\n",
       "      <th>peak-rpm</th>\n",
       "      <th>city-mpg</th>\n",
       "      <th>highway-mpg</th>\n",
       "    </tr>\n",
       "  </thead>\n",
       "  <tbody>\n",
       "    <tr>\n",
       "      <th>180</th>\n",
       "      <td>toyota</td>\n",
       "      <td>gas</td>\n",
       "      <td>std</td>\n",
       "      <td>four</td>\n",
       "      <td>sedan</td>\n",
       "      <td>rwd</td>\n",
       "      <td>3131.0</td>\n",
       "      <td>dohc</td>\n",
       "      <td>six</td>\n",
       "      <td>171.0</td>\n",
       "      <td>mpfi</td>\n",
       "      <td>156.0</td>\n",
       "      <td>5200.0</td>\n",
       "      <td>20.0</td>\n",
       "      <td>24.0</td>\n",
       "    </tr>\n",
       "    <tr>\n",
       "      <th>173</th>\n",
       "      <td>toyota</td>\n",
       "      <td>gas</td>\n",
       "      <td>std</td>\n",
       "      <td>four</td>\n",
       "      <td>sedan</td>\n",
       "      <td>fwd</td>\n",
       "      <td>2326.0</td>\n",
       "      <td>ohc</td>\n",
       "      <td>four</td>\n",
       "      <td>122.0</td>\n",
       "      <td>mpfi</td>\n",
       "      <td>92.0</td>\n",
       "      <td>4200.0</td>\n",
       "      <td>29.0</td>\n",
       "      <td>34.0</td>\n",
       "    </tr>\n",
       "    <tr>\n",
       "      <th>79</th>\n",
       "      <td>mitsubishi</td>\n",
       "      <td>gas</td>\n",
       "      <td>turbo</td>\n",
       "      <td>two</td>\n",
       "      <td>hatchback</td>\n",
       "      <td>fwd</td>\n",
       "      <td>2145.0</td>\n",
       "      <td>ohc</td>\n",
       "      <td>four</td>\n",
       "      <td>98.0</td>\n",
       "      <td>spdi</td>\n",
       "      <td>102.0</td>\n",
       "      <td>5500.0</td>\n",
       "      <td>24.0</td>\n",
       "      <td>30.0</td>\n",
       "    </tr>\n",
       "    <tr>\n",
       "      <th>188</th>\n",
       "      <td>volkswagen</td>\n",
       "      <td>gas</td>\n",
       "      <td>std</td>\n",
       "      <td>four</td>\n",
       "      <td>sedan</td>\n",
       "      <td>fwd</td>\n",
       "      <td>2300.0</td>\n",
       "      <td>ohc</td>\n",
       "      <td>four</td>\n",
       "      <td>109.0</td>\n",
       "      <td>mpfi</td>\n",
       "      <td>100.0</td>\n",
       "      <td>5500.0</td>\n",
       "      <td>26.0</td>\n",
       "      <td>32.0</td>\n",
       "    </tr>\n",
       "    <tr>\n",
       "      <th>168</th>\n",
       "      <td>toyota</td>\n",
       "      <td>gas</td>\n",
       "      <td>std</td>\n",
       "      <td>two</td>\n",
       "      <td>hardtop</td>\n",
       "      <td>rwd</td>\n",
       "      <td>2536.0</td>\n",
       "      <td>ohc</td>\n",
       "      <td>four</td>\n",
       "      <td>146.0</td>\n",
       "      <td>mpfi</td>\n",
       "      <td>116.0</td>\n",
       "      <td>4800.0</td>\n",
       "      <td>24.0</td>\n",
       "      <td>30.0</td>\n",
       "    </tr>\n",
       "  </tbody>\n",
       "</table>\n",
       "</div>"
      ],
      "text/plain": [
       "           make fuel-type aspiration num-of-doors body-style drive-wheels  \\\n",
       "180      toyota       gas        std         four      sedan          rwd   \n",
       "173      toyota       gas        std         four      sedan          fwd   \n",
       "79   mitsubishi       gas      turbo          two  hatchback          fwd   \n",
       "188  volkswagen       gas        std         four      sedan          fwd   \n",
       "168      toyota       gas        std          two    hardtop          rwd   \n",
       "\n",
       "     curb-weight engine-type num-of-cylinders  engine-size fuel-system  \\\n",
       "180       3131.0        dohc              six        171.0        mpfi   \n",
       "173       2326.0         ohc             four        122.0        mpfi   \n",
       "79        2145.0         ohc             four         98.0        spdi   \n",
       "188       2300.0         ohc             four        109.0        mpfi   \n",
       "168       2536.0         ohc             four        146.0        mpfi   \n",
       "\n",
       "     horsepower  peak-rpm  city-mpg  highway-mpg  \n",
       "180       156.0    5200.0      20.0         24.0  \n",
       "173        92.0    4200.0      29.0         34.0  \n",
       "79        102.0    5500.0      24.0         30.0  \n",
       "188       100.0    5500.0      26.0         32.0  \n",
       "168       116.0    4800.0      24.0         30.0  "
      ]
     },
     "execution_count": 19,
     "metadata": {},
     "output_type": "execute_result"
    }
   ],
   "source": [
    "x_train.head()"
   ]
  },
  {
   "cell_type": "code",
   "execution_count": 20,
   "metadata": {},
   "outputs": [
    {
     "data": {
      "text/plain": [
       "180    15690.0\n",
       "173     8948.0\n",
       "79      7689.0\n",
       "188     9995.0\n",
       "168     9639.0\n",
       "Name: price, dtype: float64"
      ]
     },
     "execution_count": 20,
     "metadata": {},
     "output_type": "execute_result"
    }
   ],
   "source": [
    "y_train.head()"
   ]
  },
  {
   "cell_type": "code",
   "execution_count": 21,
   "metadata": {
    "collapsed": true
   },
   "outputs": [],
   "source": [
    "PRICE_SCALING_FACTOR = 10000\n",
    "\n",
    "y_train /= PRICE_SCALING_FACTOR\n",
    "y_test /= PRICE_SCALING_FACTOR"
   ]
  },
  {
   "cell_type": "code",
   "execution_count": 22,
   "metadata": {},
   "outputs": [
    {
     "data": {
      "text/plain": [
       "180    1.5690\n",
       "173    0.8948\n",
       "79     0.7689\n",
       "188    0.9995\n",
       "168    0.9639\n",
       "Name: price, dtype: float64"
      ]
     },
     "execution_count": 22,
     "metadata": {},
     "output_type": "execute_result"
    }
   ],
   "source": [
    "y_train.head()"
   ]
  },
  {
   "cell_type": "code",
   "execution_count": 23,
   "metadata": {},
   "outputs": [
    {
     "data": {
      "text/plain": [
       "array(['audi', 'bmw', 'chevrolet', 'dodge', 'honda', 'jaguar', 'mazda',\n",
       "       'mercedes-benz', 'mitsubishi', 'nissan', 'peugot', 'plymouth',\n",
       "       'porsche', 'saab', 'subaru', 'toyota', 'volkswagen', 'volvo'], dtype=object)"
      ]
     },
     "execution_count": 23,
     "metadata": {},
     "output_type": "execute_result"
    }
   ],
   "source": [
    "df['make'].unique()"
   ]
  },
  {
   "cell_type": "code",
   "execution_count": 24,
   "metadata": {},
   "outputs": [
    {
     "data": {
      "text/plain": [
       "array(['gas', 'diesel'], dtype=object)"
      ]
     },
     "execution_count": 24,
     "metadata": {},
     "output_type": "execute_result"
    }
   ],
   "source": [
    "df['fuel-type'].unique()"
   ]
  },
  {
   "cell_type": "code",
   "execution_count": 25,
   "metadata": {},
   "outputs": [
    {
     "data": {
      "text/plain": [
       "array(['std', 'turbo'], dtype=object)"
      ]
     },
     "execution_count": 25,
     "metadata": {},
     "output_type": "execute_result"
    }
   ],
   "source": [
    "df['aspiration'].unique()"
   ]
  },
  {
   "cell_type": "code",
   "execution_count": 26,
   "metadata": {},
   "outputs": [
    {
     "data": {
      "text/plain": [
       "array(['four', 'two'], dtype=object)"
      ]
     },
     "execution_count": 26,
     "metadata": {},
     "output_type": "execute_result"
    }
   ],
   "source": [
    "df['num-of-doors'].unique()"
   ]
  },
  {
   "cell_type": "code",
   "execution_count": 27,
   "metadata": {},
   "outputs": [
    {
     "data": {
      "text/plain": [
       "array(['sedan', 'hatchback', 'wagon', 'hardtop', 'convertible'], dtype=object)"
      ]
     },
     "execution_count": 27,
     "metadata": {},
     "output_type": "execute_result"
    }
   ],
   "source": [
    "df['body-style'].unique()"
   ]
  },
  {
   "cell_type": "code",
   "execution_count": 28,
   "metadata": {},
   "outputs": [
    {
     "data": {
      "text/plain": [
       "array(['fwd', '4wd', 'rwd'], dtype=object)"
      ]
     },
     "execution_count": 28,
     "metadata": {},
     "output_type": "execute_result"
    }
   ],
   "source": [
    "df['drive-wheels'].unique()"
   ]
  },
  {
   "cell_type": "code",
   "execution_count": 29,
   "metadata": {},
   "outputs": [
    {
     "data": {
      "text/plain": [
       "array(['ohc', 'l', 'dohc', 'ohcv', 'ohcf'], dtype=object)"
      ]
     },
     "execution_count": 29,
     "metadata": {},
     "output_type": "execute_result"
    }
   ],
   "source": [
    "df['engine-type'].unique()"
   ]
  },
  {
   "cell_type": "code",
   "execution_count": 30,
   "metadata": {},
   "outputs": [
    {
     "data": {
      "text/plain": [
       "array(['four', 'five', 'six', 'three', 'eight'], dtype=object)"
      ]
     },
     "execution_count": 30,
     "metadata": {},
     "output_type": "execute_result"
    }
   ],
   "source": [
    "df['num-of-cylinders'].unique()"
   ]
  },
  {
   "cell_type": "code",
   "execution_count": 31,
   "metadata": {},
   "outputs": [
    {
     "data": {
      "text/plain": [
       "array(['mpfi', '2bbl', 'mfi', '1bbl', 'idi', 'spdi'], dtype=object)"
      ]
     },
     "execution_count": 31,
     "metadata": {},
     "output_type": "execute_result"
    }
   ],
   "source": [
    "df['fuel-system'].unique()"
   ]
  },
  {
   "cell_type": "code",
   "execution_count": 32,
   "metadata": {
    "collapsed": true
   },
   "outputs": [],
   "source": [
    "curb_weight = tf.feature_column.numeric_column(\"curb-weight\")\n",
    "\n",
    "engine_size = tf.feature_column.numeric_column(\"engine-size\")\n",
    "\n",
    "horsepower = tf.feature_column.numeric_column(\"horsepower\")\n",
    "\n",
    "peak_rpm = tf.feature_column.numeric_column(\"peak-rpm\")\n",
    "\n",
    "city_mpg = tf.feature_column.numeric_column(\"city-mpg\")\n",
    "\n",
    "highway_mpg = tf.feature_column.numeric_column(\"highway-mpg\")"
   ]
  },
  {
   "cell_type": "code",
   "execution_count": 33,
   "metadata": {
    "collapsed": true
   },
   "outputs": [],
   "source": [
    "body_style = tf.feature_column.categorical_column_with_vocabulary_list(\n",
    "      key=\"body-style\", vocabulary_list=df['body-style'].unique())\n",
    "\n",
    "fuel_type = tf.feature_column.categorical_column_with_vocabulary_list(\n",
    "      key=\"fuel-type\", vocabulary_list=df['fuel-type'].unique())\n",
    "\n",
    "aspiration = tf.feature_column.categorical_column_with_vocabulary_list(\n",
    "      key=\"aspiration\", vocabulary_list=df['aspiration'].unique())\n",
    "\n",
    "num_of_doors = tf.feature_column.categorical_column_with_vocabulary_list(\n",
    "      key=\"num-of-doors\", vocabulary_list=df['num-of-doors'].unique())\n",
    "\n",
    "drive_wheels = tf.feature_column.categorical_column_with_vocabulary_list(\n",
    "      key=\"drive-wheels\", vocabulary_list=df['drive-wheels'].unique())\n",
    "\n",
    "engine_type = tf.feature_column.categorical_column_with_vocabulary_list(\n",
    "      key=\"engine-type\", vocabulary_list=df['engine-type'].unique())\n",
    "\n",
    "num_of_cylinders = tf.feature_column.categorical_column_with_vocabulary_list(\n",
    "      key=\"num-of-cylinders\", vocabulary_list=df['num-of-cylinders'].unique())\n",
    "\n",
    "fuel_system = tf.feature_column.categorical_column_with_vocabulary_list(\n",
    "      key=\"fuel-system\", vocabulary_list=df['fuel-system'].unique())"
   ]
  },
  {
   "cell_type": "code",
   "execution_count": 34,
   "metadata": {
    "collapsed": true
   },
   "outputs": [],
   "source": [
    "make = tf.feature_column.categorical_column_with_hash_bucket(\n",
    "      key=\"make\", hash_bucket_size=50)"
   ]
  },
  {
   "cell_type": "code",
   "execution_count": 35,
   "metadata": {
    "collapsed": true
   },
   "outputs": [],
   "source": [
    "feature_columns = [\n",
    "    curb_weight, engine_size, horsepower, peak_rpm, city_mpg, highway_mpg,\n",
    "\n",
    "    tf.feature_column.indicator_column(body_style),\n",
    "\n",
    "    tf.feature_column.embedding_column(fuel_type, dimension=3),\n",
    "\n",
    "    tf.feature_column.embedding_column(aspiration, dimension=3),\n",
    "    tf.feature_column.embedding_column(num_of_doors, dimension=3),\n",
    "    tf.feature_column.embedding_column(drive_wheels, dimension=3),\n",
    "    tf.feature_column.embedding_column(engine_type, dimension=3),\n",
    "    tf.feature_column.embedding_column(num_of_cylinders, dimension=3),\n",
    "    tf.feature_column.embedding_column(fuel_system, dimension=3),\n",
    "\n",
    "    tf.feature_column.embedding_column(make, dimension=4)    \n",
    "]"
   ]
  },
  {
   "cell_type": "code",
   "execution_count": 36,
   "metadata": {
    "collapsed": true
   },
   "outputs": [],
   "source": [
    "def input_fn(x_data, y_data, num_epochs, shuffle):\n",
    "\n",
    "    return tf.estimator.inputs.pandas_input_fn(\n",
    "          x=x_data,\n",
    "          y=y_data,\n",
    "          batch_size=64,\n",
    "          num_epochs=num_epochs,\n",
    "          shuffle=shuffle)            "
   ]
  },
  {
   "cell_type": "code",
   "execution_count": 37,
   "metadata": {},
   "outputs": [
    {
     "name": "stdout",
     "output_type": "stream",
     "text": [
      "INFO:tensorflow:Using default config.\n",
      "WARNING:tensorflow:Using temporary folder as model directory: C:\\Users\\tara\\AppData\\Local\\Temp\\tmpwpeggrbw\n",
      "INFO:tensorflow:Using config: {'_model_dir': 'C:\\\\Users\\\\tara\\\\AppData\\\\Local\\\\Temp\\\\tmpwpeggrbw', '_tf_random_seed': 1, '_save_summary_steps': 100, '_save_checkpoints_secs': 600, '_save_checkpoints_steps': None, '_session_config': None, '_keep_checkpoint_max': 5, '_keep_checkpoint_every_n_hours': 10000, '_log_step_count_steps': 100}\n"
     ]
    }
   ],
   "source": [
    "model = tf.estimator.DNNRegressor(\n",
    "      hidden_units=[24, 16, 24], feature_columns=feature_columns)"
   ]
  },
  {
   "cell_type": "code",
   "execution_count": 38,
   "metadata": {},
   "outputs": [
    {
     "name": "stdout",
     "output_type": "stream",
     "text": [
      "INFO:tensorflow:Create CheckpointSaverHook.\n",
      "INFO:tensorflow:Saving checkpoints for 1 into C:\\Users\\tara\\AppData\\Local\\Temp\\tmpwpeggrbw\\model.ckpt.\n",
      "INFO:tensorflow:loss = 2.87233e+07, step = 1\n",
      "INFO:tensorflow:global_step/sec: 85.191\n",
      "INFO:tensorflow:loss = 8.03739, step = 101 (1.219 sec)\n",
      "INFO:tensorflow:global_step/sec: 108.108\n",
      "INFO:tensorflow:loss = 12.8202, step = 201 (0.880 sec)\n",
      "INFO:tensorflow:global_step/sec: 128.111\n",
      "INFO:tensorflow:loss = 6.07589, step = 301 (0.781 sec)\n",
      "INFO:tensorflow:global_step/sec: 125.07\n",
      "INFO:tensorflow:loss = 9.50914, step = 401 (0.800 sec)\n",
      "INFO:tensorflow:global_step/sec: 127.786\n",
      "INFO:tensorflow:loss = 6.60544, step = 501 (0.784 sec)\n",
      "INFO:tensorflow:global_step/sec: 126.17\n",
      "INFO:tensorflow:loss = 8.61999, step = 601 (0.793 sec)\n",
      "INFO:tensorflow:global_step/sec: 114.077\n",
      "INFO:tensorflow:loss = 9.31159, step = 701 (0.879 sec)\n",
      "INFO:tensorflow:global_step/sec: 126.81\n",
      "INFO:tensorflow:loss = 5.80941, step = 801 (0.784 sec)\n",
      "INFO:tensorflow:global_step/sec: 164.091\n",
      "INFO:tensorflow:loss = 9.90546, step = 901 (0.608 sec)\n",
      "INFO:tensorflow:global_step/sec: 168.799\n",
      "INFO:tensorflow:loss = 7.47273, step = 1001 (0.596 sec)\n",
      "INFO:tensorflow:global_step/sec: 156.139\n",
      "INFO:tensorflow:loss = 7.43972, step = 1101 (0.636 sec)\n",
      "INFO:tensorflow:global_step/sec: 172.588\n",
      "INFO:tensorflow:loss = 7.20888, step = 1201 (0.579 sec)\n",
      "INFO:tensorflow:global_step/sec: 184.371\n",
      "INFO:tensorflow:loss = 5.67756, step = 1301 (0.541 sec)\n",
      "INFO:tensorflow:global_step/sec: 182.352\n",
      "INFO:tensorflow:loss = 10.549, step = 1401 (0.548 sec)\n",
      "INFO:tensorflow:global_step/sec: 186.782\n",
      "INFO:tensorflow:loss = 9.99425, step = 1501 (0.536 sec)\n",
      "INFO:tensorflow:global_step/sec: 187.133\n",
      "INFO:tensorflow:loss = 8.19575, step = 1601 (0.534 sec)\n",
      "INFO:tensorflow:global_step/sec: 189.26\n",
      "INFO:tensorflow:loss = 10.964, step = 1701 (0.527 sec)\n",
      "INFO:tensorflow:global_step/sec: 195.173\n",
      "INFO:tensorflow:loss = 10.3992, step = 1801 (0.512 sec)\n",
      "INFO:tensorflow:global_step/sec: 200.259\n",
      "INFO:tensorflow:loss = 10.3888, step = 1901 (0.500 sec)\n",
      "INFO:tensorflow:global_step/sec: 200.258\n",
      "INFO:tensorflow:loss = 7.53191, step = 2001 (0.498 sec)\n",
      "INFO:tensorflow:global_step/sec: 200.659\n",
      "INFO:tensorflow:loss = 8.9973, step = 2101 (0.498 sec)\n",
      "INFO:tensorflow:global_step/sec: 186.784\n",
      "INFO:tensorflow:loss = 9.6291, step = 2201 (0.535 sec)\n",
      "INFO:tensorflow:global_step/sec: 192.943\n",
      "INFO:tensorflow:loss = 6.27222, step = 2301 (0.519 sec)\n",
      "INFO:tensorflow:global_step/sec: 195.939\n",
      "INFO:tensorflow:loss = 11.0595, step = 2401 (0.509 sec)\n",
      "INFO:tensorflow:global_step/sec: 200.472\n",
      "INFO:tensorflow:loss = 10.6751, step = 2501 (0.499 sec)\n",
      "INFO:tensorflow:global_step/sec: 196.704\n",
      "INFO:tensorflow:loss = 9.84253, step = 2601 (0.509 sec)\n",
      "INFO:tensorflow:global_step/sec: 194.799\n",
      "INFO:tensorflow:loss = 8.60674, step = 2701 (0.513 sec)\n",
      "INFO:tensorflow:global_step/sec: 192.911\n",
      "INFO:tensorflow:loss = 8.84691, step = 2801 (0.517 sec)\n",
      "INFO:tensorflow:global_step/sec: 197.099\n",
      "INFO:tensorflow:loss = 8.73368, step = 2901 (0.508 sec)\n",
      "INFO:tensorflow:global_step/sec: 198.659\n",
      "INFO:tensorflow:loss = 10.8104, step = 3001 (0.502 sec)\n",
      "INFO:tensorflow:global_step/sec: 197.886\n",
      "INFO:tensorflow:loss = 7.50189, step = 3101 (0.505 sec)\n",
      "INFO:tensorflow:global_step/sec: 197.098\n",
      "INFO:tensorflow:loss = 8.05354, step = 3201 (0.507 sec)\n",
      "INFO:tensorflow:global_step/sec: 197.878\n",
      "INFO:tensorflow:loss = 6.03764, step = 3301 (0.507 sec)\n",
      "INFO:tensorflow:global_step/sec: 193.654\n",
      "INFO:tensorflow:loss = 10.1513, step = 3401 (0.515 sec)\n",
      "INFO:tensorflow:global_step/sec: 195.174\n",
      "INFO:tensorflow:loss = 8.72194, step = 3501 (0.512 sec)\n",
      "INFO:tensorflow:global_step/sec: 194.42\n",
      "INFO:tensorflow:loss = 10.3325, step = 3601 (0.514 sec)\n",
      "INFO:tensorflow:global_step/sec: 199.852\n",
      "INFO:tensorflow:loss = 7.24761, step = 3701 (0.499 sec)\n",
      "INFO:tensorflow:global_step/sec: 193.666\n",
      "INFO:tensorflow:loss = 5.03668, step = 3801 (0.516 sec)\n",
      "INFO:tensorflow:global_step/sec: 199.063\n",
      "INFO:tensorflow:loss = 6.9758, step = 3901 (0.502 sec)\n",
      "INFO:tensorflow:global_step/sec: 186.433\n",
      "INFO:tensorflow:loss = 8.40174, step = 4001 (0.537 sec)\n",
      "INFO:tensorflow:global_step/sec: 186.772\n",
      "INFO:tensorflow:loss = 7.04169, step = 4101 (0.537 sec)\n",
      "INFO:tensorflow:global_step/sec: 195.176\n",
      "INFO:tensorflow:loss = 7.34902, step = 4201 (0.509 sec)\n",
      "INFO:tensorflow:global_step/sec: 182.02\n",
      "INFO:tensorflow:loss = 6.06429, step = 4301 (0.549 sec)\n",
      "INFO:tensorflow:global_step/sec: 209.049\n",
      "INFO:tensorflow:loss = 9.88956, step = 4401 (0.478 sec)\n",
      "INFO:tensorflow:global_step/sec: 219.148\n",
      "INFO:tensorflow:loss = 10.1448, step = 4501 (0.461 sec)\n",
      "INFO:tensorflow:global_step/sec: 218.179\n",
      "INFO:tensorflow:loss = 8.27211, step = 4601 (0.452 sec)\n",
      "INFO:tensorflow:global_step/sec: 212.615\n",
      "INFO:tensorflow:loss = 6.14381, step = 4701 (0.470 sec)\n",
      "INFO:tensorflow:global_step/sec: 210.383\n",
      "INFO:tensorflow:loss = 8.45293, step = 4801 (0.475 sec)\n",
      "INFO:tensorflow:global_step/sec: 210.369\n",
      "INFO:tensorflow:loss = 8.49517, step = 4901 (0.476 sec)\n",
      "INFO:tensorflow:global_step/sec: 219.632\n",
      "INFO:tensorflow:loss = 9.38543, step = 5001 (0.455 sec)\n",
      "INFO:tensorflow:global_step/sec: 222.064\n",
      "INFO:tensorflow:loss = 9.65204, step = 5101 (0.449 sec)\n",
      "INFO:tensorflow:global_step/sec: 213.523\n",
      "INFO:tensorflow:loss = 8.95567, step = 5201 (0.469 sec)\n",
      "INFO:tensorflow:global_step/sec: 217.71\n",
      "INFO:tensorflow:loss = 6.80491, step = 5301 (0.459 sec)\n",
      "INFO:tensorflow:global_step/sec: 211.712\n",
      "INFO:tensorflow:loss = 7.82062, step = 5401 (0.472 sec)\n",
      "INFO:tensorflow:global_step/sec: 218.185\n",
      "INFO:tensorflow:loss = 7.59623, step = 5501 (0.458 sec)\n",
      "INFO:tensorflow:global_step/sec: 215.829\n",
      "INFO:tensorflow:loss = 6.24405, step = 5601 (0.463 sec)\n",
      "INFO:tensorflow:global_step/sec: 217.23\n",
      "INFO:tensorflow:loss = 5.89969, step = 5701 (0.460 sec)\n",
      "INFO:tensorflow:global_step/sec: 226.8\n",
      "INFO:tensorflow:loss = 7.25276, step = 5801 (0.441 sec)\n",
      "INFO:tensorflow:global_step/sec: 219.63\n",
      "INFO:tensorflow:loss = 4.44059, step = 5901 (0.455 sec)\n",
      "INFO:tensorflow:global_step/sec: 218.187\n",
      "INFO:tensorflow:loss = 7.1217, step = 6001 (0.458 sec)\n",
      "INFO:tensorflow:global_step/sec: 213.903\n",
      "INFO:tensorflow:loss = 6.34765, step = 6101 (0.467 sec)\n",
      "INFO:tensorflow:global_step/sec: 214.901\n",
      "INFO:tensorflow:loss = 6.25552, step = 6201 (0.465 sec)\n",
      "INFO:tensorflow:global_step/sec: 222.565\n",
      "INFO:tensorflow:loss = 6.29349, step = 6301 (0.452 sec)\n",
      "INFO:tensorflow:global_step/sec: 215.014\n",
      "INFO:tensorflow:loss = 8.26074, step = 6401 (0.462 sec)\n",
      "INFO:tensorflow:global_step/sec: 220.037\n",
      "INFO:tensorflow:loss = 5.58817, step = 6501 (0.454 sec)\n",
      "INFO:tensorflow:global_step/sec: 219.632\n",
      "INFO:tensorflow:loss = 6.40292, step = 6601 (0.455 sec)\n",
      "INFO:tensorflow:global_step/sec: 223.056\n",
      "INFO:tensorflow:loss = 7.08452, step = 6701 (0.448 sec)\n",
      "INFO:tensorflow:global_step/sec: 215.829\n",
      "INFO:tensorflow:loss = 7.81217, step = 6801 (0.462 sec)\n",
      "INFO:tensorflow:global_step/sec: 223.054\n",
      "INFO:tensorflow:loss = 6.74072, step = 6901 (0.449 sec)\n",
      "INFO:tensorflow:global_step/sec: 213.069\n",
      "INFO:tensorflow:loss = 6.95, step = 7001 (0.468 sec)\n",
      "INFO:tensorflow:global_step/sec: 221.081\n",
      "INFO:tensorflow:loss = 7.98427, step = 7101 (0.453 sec)\n",
      "INFO:tensorflow:global_step/sec: 238.494\n",
      "INFO:tensorflow:loss = 6.22894, step = 7201 (0.422 sec)\n",
      "INFO:tensorflow:global_step/sec: 237.36\n",
      "INFO:tensorflow:loss = 5.81219, step = 7301 (0.417 sec)\n",
      "INFO:tensorflow:global_step/sec: 240.214\n",
      "INFO:tensorflow:loss = 7.27388, step = 7401 (0.417 sec)\n",
      "INFO:tensorflow:global_step/sec: 236.799\n",
      "INFO:tensorflow:loss = 5.27761, step = 7501 (0.421 sec)\n",
      "INFO:tensorflow:global_step/sec: 244.924\n",
      "INFO:tensorflow:loss = 9.16945, step = 7601 (0.408 sec)\n",
      "INFO:tensorflow:global_step/sec: 243.136\n",
      "INFO:tensorflow:loss = 8.04926, step = 7701 (0.411 sec)\n",
      "INFO:tensorflow:global_step/sec: 235.127\n",
      "INFO:tensorflow:loss = 8.07984, step = 7801 (0.425 sec)\n",
      "INFO:tensorflow:global_step/sec: 239.063\n",
      "INFO:tensorflow:loss = 7.02459, step = 7901 (0.419 sec)\n",
      "INFO:tensorflow:global_step/sec: 229.195\n",
      "INFO:tensorflow:loss = 7.31128, step = 8001 (0.435 sec)\n",
      "INFO:tensorflow:global_step/sec: 232.392\n",
      "INFO:tensorflow:loss = 9.29931, step = 8101 (0.431 sec)\n",
      "INFO:tensorflow:global_step/sec: 229.722\n",
      "INFO:tensorflow:loss = 7.36239, step = 8201 (0.434 sec)\n",
      "INFO:tensorflow:global_step/sec: 237.925\n",
      "INFO:tensorflow:loss = 7.64294, step = 8301 (0.420 sec)\n"
     ]
    },
    {
     "name": "stdout",
     "output_type": "stream",
     "text": [
      "INFO:tensorflow:global_step/sec: 235.682\n",
      "INFO:tensorflow:loss = 6.78874, step = 8401 (0.424 sec)\n",
      "INFO:tensorflow:global_step/sec: 243.129\n",
      "INFO:tensorflow:loss = 3.65842, step = 8501 (0.412 sec)\n",
      "INFO:tensorflow:global_step/sec: 237.366\n",
      "INFO:tensorflow:loss = 6.18679, step = 8601 (0.421 sec)\n",
      "INFO:tensorflow:global_step/sec: 243.136\n",
      "INFO:tensorflow:loss = 5.2371, step = 8701 (0.411 sec)\n",
      "INFO:tensorflow:global_step/sec: 241.954\n",
      "INFO:tensorflow:loss = 6.89925, step = 8801 (0.415 sec)\n",
      "INFO:tensorflow:global_step/sec: 249.096\n",
      "INFO:tensorflow:loss = 6.75883, step = 8901 (0.398 sec)\n",
      "INFO:tensorflow:global_step/sec: 237.926\n",
      "INFO:tensorflow:loss = 6.99544, step = 9001 (0.421 sec)\n",
      "INFO:tensorflow:global_step/sec: 243.729\n",
      "INFO:tensorflow:loss = 5.94034, step = 9101 (0.410 sec)\n",
      "INFO:tensorflow:global_step/sec: 241.373\n",
      "INFO:tensorflow:loss = 5.49686, step = 9201 (0.413 sec)\n",
      "INFO:tensorflow:global_step/sec: 242.546\n",
      "INFO:tensorflow:loss = 7.72204, step = 9301 (0.412 sec)\n",
      "INFO:tensorflow:global_step/sec: 249.2\n",
      "INFO:tensorflow:loss = 7.37018, step = 9401 (0.401 sec)\n",
      "INFO:tensorflow:global_step/sec: 234.574\n",
      "INFO:tensorflow:loss = 7.27232, step = 9501 (0.429 sec)\n",
      "INFO:tensorflow:global_step/sec: 241.374\n",
      "INFO:tensorflow:loss = 4.92772, step = 9601 (0.411 sec)\n",
      "INFO:tensorflow:global_step/sec: 239.638\n",
      "INFO:tensorflow:loss = 9.68145, step = 9701 (0.418 sec)\n",
      "INFO:tensorflow:global_step/sec: 234.025\n",
      "INFO:tensorflow:loss = 6.59065, step = 9801 (0.427 sec)\n",
      "INFO:tensorflow:global_step/sec: 236.799\n",
      "INFO:tensorflow:loss = 7.99508, step = 9901 (0.422 sec)\n",
      "INFO:tensorflow:global_step/sec: 240.213\n",
      "INFO:tensorflow:loss = 7.61708, step = 10001 (0.416 sec)\n",
      "INFO:tensorflow:global_step/sec: 247.963\n",
      "INFO:tensorflow:loss = 6.04695, step = 10101 (0.402 sec)\n",
      "INFO:tensorflow:global_step/sec: 242.546\n",
      "INFO:tensorflow:loss = 4.45834, step = 10201 (0.413 sec)\n",
      "INFO:tensorflow:global_step/sec: 245.525\n",
      "INFO:tensorflow:loss = 9.8649, step = 10301 (0.407 sec)\n",
      "INFO:tensorflow:global_step/sec: 243.729\n",
      "INFO:tensorflow:loss = 6.4315, step = 10401 (0.409 sec)\n",
      "INFO:tensorflow:global_step/sec: 252.345\n",
      "INFO:tensorflow:loss = 7.24062, step = 10501 (0.396 sec)\n",
      "INFO:tensorflow:global_step/sec: 240.213\n",
      "INFO:tensorflow:loss = 5.85664, step = 10601 (0.417 sec)\n",
      "INFO:tensorflow:global_step/sec: 243.729\n",
      "INFO:tensorflow:loss = 9.26371, step = 10701 (0.409 sec)\n",
      "INFO:tensorflow:global_step/sec: 245.525\n",
      "INFO:tensorflow:loss = 7.83981, step = 10801 (0.408 sec)\n",
      "INFO:tensorflow:global_step/sec: 243.729\n",
      "INFO:tensorflow:loss = 5.59935, step = 10901 (0.410 sec)\n",
      "INFO:tensorflow:global_step/sec: 234.575\n",
      "INFO:tensorflow:loss = 7.8107, step = 11001 (0.425 sec)\n",
      "INFO:tensorflow:global_step/sec: 234.575\n",
      "INFO:tensorflow:loss = 3.9698, step = 11101 (0.429 sec)\n",
      "INFO:tensorflow:global_step/sec: 230.251\n",
      "INFO:tensorflow:loss = 6.65203, step = 11201 (0.431 sec)\n",
      "INFO:tensorflow:global_step/sec: 267.905\n",
      "INFO:tensorflow:loss = 6.87048, step = 11301 (0.372 sec)\n",
      "INFO:tensorflow:global_step/sec: 284.697\n",
      "INFO:tensorflow:loss = 7.07629, step = 11401 (0.352 sec)\n",
      "INFO:tensorflow:global_step/sec: 286.33\n",
      "INFO:tensorflow:loss = 4.95874, step = 11501 (0.348 sec)\n",
      "INFO:tensorflow:global_step/sec: 287.151\n",
      "INFO:tensorflow:loss = 8.33818, step = 11601 (0.349 sec)\n",
      "INFO:tensorflow:global_step/sec: 295.647\n",
      "INFO:tensorflow:loss = 7.25279, step = 11701 (0.338 sec)\n",
      "INFO:tensorflow:global_step/sec: 199.459\n",
      "INFO:tensorflow:loss = 9.67593, step = 11801 (0.502 sec)\n",
      "INFO:tensorflow:global_step/sec: 212.163\n",
      "INFO:tensorflow:loss = 5.48393, step = 11901 (0.472 sec)\n",
      "INFO:tensorflow:global_step/sec: 247.962\n",
      "INFO:tensorflow:loss = 10.8536, step = 12001 (0.401 sec)\n",
      "INFO:tensorflow:global_step/sec: 193.66\n",
      "INFO:tensorflow:loss = 4.94791, step = 12101 (0.516 sec)\n",
      "INFO:tensorflow:global_step/sec: 256.886\n",
      "INFO:tensorflow:loss = 6.28811, step = 12201 (0.390 sec)\n",
      "INFO:tensorflow:global_step/sec: 200.66\n",
      "INFO:tensorflow:loss = 6.56665, step = 12301 (0.499 sec)\n",
      "INFO:tensorflow:global_step/sec: 214.901\n",
      "INFO:tensorflow:loss = 7.46143, step = 12401 (0.467 sec)\n",
      "INFO:tensorflow:global_step/sec: 196.71\n",
      "INFO:tensorflow:loss = 5.88639, step = 12501 (0.504 sec)\n",
      "INFO:tensorflow:global_step/sec: 221.571\n",
      "INFO:tensorflow:loss = 7.16044, step = 12601 (0.450 sec)\n",
      "INFO:tensorflow:global_step/sec: 283.889\n",
      "INFO:tensorflow:loss = 6.51449, step = 12701 (0.352 sec)\n",
      "INFO:tensorflow:global_step/sec: 226.081\n",
      "INFO:tensorflow:loss = 5.7402, step = 12801 (0.442 sec)\n",
      "INFO:tensorflow:global_step/sec: 293.05\n",
      "INFO:tensorflow:loss = 6.30516, step = 12901 (0.341 sec)\n",
      "INFO:tensorflow:global_step/sec: 277.58\n",
      "INFO:tensorflow:loss = 4.37796, step = 13001 (0.360 sec)\n",
      "INFO:tensorflow:global_step/sec: 203.936\n",
      "INFO:tensorflow:loss = 4.74045, step = 13101 (0.493 sec)\n",
      "INFO:tensorflow:global_step/sec: 268.626\n",
      "INFO:tensorflow:loss = 8.02587, step = 13201 (0.373 sec)\n",
      "INFO:tensorflow:global_step/sec: 279.912\n",
      "INFO:tensorflow:loss = 5.88774, step = 13301 (0.354 sec)\n",
      "INFO:tensorflow:global_step/sec: 251.077\n",
      "INFO:tensorflow:loss = 6.30554, step = 13401 (0.402 sec)\n",
      "INFO:tensorflow:global_step/sec: 210.376\n",
      "INFO:tensorflow:loss = 4.46388, step = 13501 (0.471 sec)\n",
      "INFO:tensorflow:global_step/sec: 201.876\n",
      "INFO:tensorflow:loss = 6.66008, step = 13601 (0.499 sec)\n",
      "INFO:tensorflow:global_step/sec: 192.171\n",
      "INFO:tensorflow:loss = 5.65381, step = 13701 (0.515 sec)\n",
      "INFO:tensorflow:global_step/sec: 216.296\n",
      "INFO:tensorflow:loss = 6.17541, step = 13801 (0.462 sec)\n",
      "INFO:tensorflow:global_step/sec: 299.189\n",
      "INFO:tensorflow:loss = 6.63011, step = 13901 (0.335 sec)\n",
      "INFO:tensorflow:global_step/sec: 273.026\n",
      "INFO:tensorflow:loss = 5.86215, step = 14001 (0.367 sec)\n",
      "INFO:tensorflow:global_step/sec: 283.088\n",
      "INFO:tensorflow:loss = 7.61824, step = 14101 (0.352 sec)\n",
      "INFO:tensorflow:global_step/sec: 294.774\n",
      "INFO:tensorflow:loss = 4.95555, step = 14201 (0.338 sec)\n",
      "INFO:tensorflow:global_step/sec: 287.151\n",
      "INFO:tensorflow:loss = 5.55165, step = 14301 (0.349 sec)\n",
      "INFO:tensorflow:global_step/sec: 248.58\n",
      "INFO:tensorflow:loss = 5.07154, step = 14401 (0.412 sec)\n",
      "INFO:tensorflow:global_step/sec: 264.138\n",
      "INFO:tensorflow:loss = 7.09272, step = 14501 (0.370 sec)\n",
      "INFO:tensorflow:global_step/sec: 194.793\n",
      "INFO:tensorflow:loss = 5.34266, step = 14601 (0.518 sec)\n",
      "INFO:tensorflow:global_step/sec: 203.521\n",
      "INFO:tensorflow:loss = 6.77004, step = 14701 (0.492 sec)\n",
      "INFO:tensorflow:global_step/sec: 210.821\n",
      "INFO:tensorflow:loss = 4.22914, step = 14801 (0.467 sec)\n",
      "INFO:tensorflow:global_step/sec: 215.829\n",
      "INFO:tensorflow:loss = 7.07378, step = 14901 (0.463 sec)\n",
      "INFO:tensorflow:global_step/sec: 277.58\n",
      "INFO:tensorflow:loss = 9.36969, step = 15001 (0.362 sec)\n",
      "INFO:tensorflow:global_step/sec: 189.979\n",
      "INFO:tensorflow:loss = 6.40911, step = 15101 (0.524 sec)\n",
      "INFO:tensorflow:global_step/sec: 264.362\n",
      "INFO:tensorflow:loss = 3.7853, step = 15201 (0.378 sec)\n",
      "INFO:tensorflow:global_step/sec: 207.322\n",
      "INFO:tensorflow:loss = 5.57702, step = 15301 (0.481 sec)\n",
      "INFO:tensorflow:global_step/sec: 292.189\n",
      "INFO:tensorflow:loss = 4.83381, step = 15401 (0.343 sec)\n",
      "INFO:tensorflow:global_step/sec: 289.649\n",
      "INFO:tensorflow:loss = 6.94216, step = 15501 (0.344 sec)\n",
      "INFO:tensorflow:global_step/sec: 293.045\n",
      "INFO:tensorflow:loss = 6.34278, step = 15601 (0.341 sec)\n",
      "INFO:tensorflow:global_step/sec: 220.108\n",
      "INFO:tensorflow:loss = 4.44272, step = 15701 (0.457 sec)\n",
      "INFO:tensorflow:global_step/sec: 228.148\n",
      "INFO:tensorflow:loss = 4.75077, step = 15801 (0.436 sec)\n",
      "INFO:tensorflow:global_step/sec: 218.663\n",
      "INFO:tensorflow:loss = 4.29885, step = 15901 (0.459 sec)\n",
      "INFO:tensorflow:global_step/sec: 285.511\n",
      "INFO:tensorflow:loss = 7.15449, step = 16001 (0.347 sec)\n",
      "INFO:tensorflow:global_step/sec: 201.876\n",
      "INFO:tensorflow:loss = 7.05904, step = 16101 (0.496 sec)\n",
      "INFO:tensorflow:global_step/sec: 261.594\n",
      "INFO:tensorflow:loss = 7.88152, step = 16201 (0.382 sec)\n",
      "INFO:tensorflow:global_step/sec: 252.345\n",
      "INFO:tensorflow:loss = 6.83171, step = 16301 (0.396 sec)\n",
      "INFO:tensorflow:global_step/sec: 272.286\n",
      "INFO:tensorflow:loss = 3.53514, step = 16401 (0.367 sec)\n",
      "INFO:tensorflow:global_step/sec: 287.15\n",
      "INFO:tensorflow:loss = 6.11466, step = 16501 (0.348 sec)\n",
      "INFO:tensorflow:global_step/sec: 275.287\n",
      "INFO:tensorflow:loss = 8.32443, step = 16601 (0.364 sec)\n",
      "INFO:tensorflow:global_step/sec: 274.53\n",
      "INFO:tensorflow:loss = 8.15548, step = 16701 (0.362 sec)\n"
     ]
    },
    {
     "name": "stdout",
     "output_type": "stream",
     "text": [
      "INFO:tensorflow:global_step/sec: 266.477\n",
      "INFO:tensorflow:loss = 6.52868, step = 16801 (0.376 sec)\n",
      "INFO:tensorflow:global_step/sec: 261.929\n",
      "INFO:tensorflow:loss = 9.22004, step = 16901 (0.382 sec)\n",
      "INFO:tensorflow:global_step/sec: 293.909\n",
      "INFO:tensorflow:loss = 6.03705, step = 17001 (0.340 sec)\n",
      "INFO:tensorflow:global_step/sec: 290.491\n",
      "INFO:tensorflow:loss = 6.71624, step = 17101 (0.344 sec)\n",
      "INFO:tensorflow:global_step/sec: 297.407\n",
      "INFO:tensorflow:loss = 9.7001, step = 17201 (0.336 sec)\n",
      "INFO:tensorflow:global_step/sec: 294.775\n",
      "INFO:tensorflow:loss = 6.6895, step = 17301 (0.338 sec)\n",
      "INFO:tensorflow:global_step/sec: 272.285\n",
      "INFO:tensorflow:loss = 6.27706, step = 17401 (0.368 sec)\n",
      "INFO:tensorflow:global_step/sec: 287.152\n",
      "INFO:tensorflow:loss = 6.76437, step = 17501 (0.348 sec)\n",
      "INFO:tensorflow:global_step/sec: 279.131\n",
      "INFO:tensorflow:loss = 5.38392, step = 17601 (0.357 sec)\n",
      "INFO:tensorflow:global_step/sec: 291.338\n",
      "INFO:tensorflow:loss = 4.75781, step = 17701 (0.343 sec)\n",
      "INFO:tensorflow:global_step/sec: 291.338\n",
      "INFO:tensorflow:loss = 4.06883, step = 17801 (0.344 sec)\n",
      "INFO:tensorflow:global_step/sec: 280.698\n",
      "INFO:tensorflow:loss = 5.12898, step = 17901 (0.355 sec)\n",
      "INFO:tensorflow:global_step/sec: 290.492\n",
      "INFO:tensorflow:loss = 6.75777, step = 18001 (0.345 sec)\n",
      "INFO:tensorflow:global_step/sec: 268.626\n",
      "INFO:tensorflow:loss = 6.17142, step = 18101 (0.372 sec)\n",
      "INFO:tensorflow:global_step/sec: 293.045\n",
      "INFO:tensorflow:loss = 3.17875, step = 18201 (0.340 sec)\n",
      "INFO:tensorflow:global_step/sec: 291.338\n",
      "INFO:tensorflow:loss = 5.01518, step = 18301 (0.344 sec)\n",
      "INFO:tensorflow:global_step/sec: 287.979\n",
      "INFO:tensorflow:loss = 4.48248, step = 18401 (0.347 sec)\n",
      "INFO:tensorflow:global_step/sec: 297.407\n",
      "INFO:tensorflow:loss = 6.76021, step = 18501 (0.337 sec)\n",
      "INFO:tensorflow:global_step/sec: 291.338\n",
      "INFO:tensorflow:loss = 7.41805, step = 18601 (0.342 sec)\n",
      "INFO:tensorflow:global_step/sec: 289.648\n",
      "INFO:tensorflow:loss = 7.00551, step = 18701 (0.345 sec)\n",
      "INFO:tensorflow:global_step/sec: 296.525\n",
      "INFO:tensorflow:loss = 5.69281, step = 18801 (0.336 sec)\n",
      "INFO:tensorflow:global_step/sec: 292.187\n",
      "INFO:tensorflow:loss = 5.26866, step = 18901 (0.347 sec)\n",
      "INFO:tensorflow:global_step/sec: 288.815\n",
      "INFO:tensorflow:loss = 5.47008, step = 19001 (0.341 sec)\n",
      "INFO:tensorflow:global_step/sec: 291.337\n",
      "INFO:tensorflow:loss = 5.3463, step = 19101 (0.343 sec)\n",
      "INFO:tensorflow:global_step/sec: 288.812\n",
      "INFO:tensorflow:loss = 6.62074, step = 19201 (0.347 sec)\n",
      "INFO:tensorflow:global_step/sec: 291.337\n",
      "INFO:tensorflow:loss = 6.75861, step = 19301 (0.343 sec)\n",
      "INFO:tensorflow:global_step/sec: 297.408\n",
      "INFO:tensorflow:loss = 5.53528, step = 19401 (0.336 sec)\n",
      "INFO:tensorflow:global_step/sec: 287.979\n",
      "INFO:tensorflow:loss = 5.63362, step = 19501 (0.347 sec)\n",
      "INFO:tensorflow:global_step/sec: 291.338\n",
      "INFO:tensorflow:loss = 7.1587, step = 19601 (0.343 sec)\n",
      "INFO:tensorflow:global_step/sec: 274.527\n",
      "INFO:tensorflow:loss = 7.56488, step = 19701 (0.364 sec)\n",
      "INFO:tensorflow:global_step/sec: 291.339\n",
      "INFO:tensorflow:loss = 6.67469, step = 19801 (0.344 sec)\n",
      "INFO:tensorflow:global_step/sec: 291.338\n",
      "INFO:tensorflow:loss = 4.92488, step = 19901 (0.342 sec)\n",
      "INFO:tensorflow:Saving checkpoints for 20000 into C:\\Users\\tara\\AppData\\Local\\Temp\\tmpwpeggrbw\\model.ckpt.\n",
      "INFO:tensorflow:Loss for final step: 5.22266.\n"
     ]
    },
    {
     "data": {
      "text/plain": [
       "<tensorflow.python.estimator.canned.dnn.DNNRegressor at 0x8d3eeac160>"
      ]
     },
     "execution_count": 38,
     "metadata": {},
     "output_type": "execute_result"
    }
   ],
   "source": [
    "model.train(input_fn=input_fn(x_train, y_train, num_epochs=None, shuffle=True), steps=20000)"
   ]
  },
  {
   "cell_type": "code",
   "execution_count": 39,
   "metadata": {},
   "outputs": [
    {
     "name": "stdout",
     "output_type": "stream",
     "text": [
      "INFO:tensorflow:Starting evaluation at 2018-06-04-11:23:38\n",
      "INFO:tensorflow:Restoring parameters from C:\\Users\\tara\\AppData\\Local\\Temp\\tmpwpeggrbw\\model.ckpt-20000\n",
      "INFO:tensorflow:Finished evaluation at 2018-06-04-11:23:43\n",
      "INFO:tensorflow:Saving dict for global step 20000: average_loss = 0.223781, global_step = 20000, loss = 7.161\n"
     ]
    }
   ],
   "source": [
    "results = model.evaluate(input_fn=input_fn(x_test, y_test, num_epochs=1, shuffle=False))"
   ]
  },
  {
   "cell_type": "code",
   "execution_count": 40,
   "metadata": {},
   "outputs": [
    {
     "name": "stdout",
     "output_type": "stream",
     "text": [
      "average_loss: 0.223781\n",
      "global_step: 20000\n",
      "loss: 7.161\n"
     ]
    }
   ],
   "source": [
    "for key in sorted(results):\n",
    "    print(\"%s: %s\" % (key, results[key]))\n"
   ]
  },
  {
   "cell_type": "code",
   "execution_count": 41,
   "metadata": {
    "collapsed": true
   },
   "outputs": [],
   "source": [
    "average_loss = results[\"average_loss\"]"
   ]
  },
  {
   "cell_type": "code",
   "execution_count": 42,
   "metadata": {},
   "outputs": [
    {
     "name": "stdout",
     "output_type": "stream",
     "text": [
      "\n",
      "RMS error for the test set: $4731\n"
     ]
    }
   ],
   "source": [
    "print(\"\\nRMS error for the test set: ${:.0f}\"\n",
    "        .format(PRICE_SCALING_FACTOR * average_loss**0.5))"
   ]
  },
  {
   "cell_type": "code",
   "execution_count": 43,
   "metadata": {},
   "outputs": [
    {
     "data": {
      "text/plain": [
       "(6, 6)"
      ]
     },
     "execution_count": 43,
     "metadata": {},
     "output_type": "execute_result"
    }
   ],
   "source": [
    "len(x_predict), len(y_predict)"
   ]
  },
  {
   "cell_type": "code",
   "execution_count": 44,
   "metadata": {
    "collapsed": true
   },
   "outputs": [],
   "source": [
    "predict_results = model.predict(input_fn=input_fn(x_predict, y_predict, num_epochs=1, shuffle=False))"
   ]
  },
  {
   "cell_type": "code",
   "execution_count": 45,
   "metadata": {},
   "outputs": [
    {
     "name": "stdout",
     "output_type": "stream",
     "text": [
      "INFO:tensorflow:Restoring parameters from C:\\Users\\tara\\AppData\\Local\\Temp\\tmpwpeggrbw\\model.ckpt-20000\n"
     ]
    }
   ],
   "source": [
    "predictions = list(itertools.islice(predict_results, len(x_predict)))"
   ]
  },
  {
   "cell_type": "code",
   "execution_count": 46,
   "metadata": {},
   "outputs": [
    {
     "data": {
      "text/plain": [
       "[{'predictions': array([ 1.22546482], dtype=float32)},\n",
       " {'predictions': array([ 0.95887655], dtype=float32)},\n",
       " {'predictions': array([ 0.93870825], dtype=float32)},\n",
       " {'predictions': array([ 1.39684391], dtype=float32)},\n",
       " {'predictions': array([ 0.88005537], dtype=float32)},\n",
       " {'predictions': array([ 1.00222111], dtype=float32)}]"
      ]
     },
     "execution_count": 46,
     "metadata": {},
     "output_type": "execute_result"
    }
   ],
   "source": [
    "predictions"
   ]
  },
  {
   "cell_type": "code",
   "execution_count": 47,
   "metadata": {
    "collapsed": true
   },
   "outputs": [],
   "source": [
    "predicted_prices = [obj['predictions'][0] * PRICE_SCALING_FACTOR for obj in predictions]"
   ]
  },
  {
   "cell_type": "code",
   "execution_count": 48,
   "metadata": {},
   "outputs": [
    {
     "data": {
      "text/plain": [
       "[12254.648208618164,\n",
       " 9588.7655019760132,\n",
       " 9387.0824575424194,\n",
       " 13968.439102172852,\n",
       " 8800.5536794662476,\n",
       " 10022.211074829102]"
      ]
     },
     "execution_count": 48,
     "metadata": {},
     "output_type": "execute_result"
    }
   ],
   "source": [
    "predicted_prices"
   ]
  },
  {
   "cell_type": "code",
   "execution_count": 49,
   "metadata": {
    "collapsed": true
   },
   "outputs": [],
   "source": [
    "compare_df = x_predict.copy()"
   ]
  },
  {
   "cell_type": "code",
   "execution_count": 50,
   "metadata": {},
   "outputs": [
    {
     "data": {
      "text/html": [
       "<div>\n",
       "<style scoped>\n",
       "    .dataframe tbody tr th:only-of-type {\n",
       "        vertical-align: middle;\n",
       "    }\n",
       "\n",
       "    .dataframe tbody tr th {\n",
       "        vertical-align: top;\n",
       "    }\n",
       "\n",
       "    .dataframe thead th {\n",
       "        text-align: right;\n",
       "    }\n",
       "</style>\n",
       "<table border=\"1\" class=\"dataframe\">\n",
       "  <thead>\n",
       "    <tr style=\"text-align: right;\">\n",
       "      <th></th>\n",
       "      <th>make</th>\n",
       "      <th>fuel-type</th>\n",
       "      <th>aspiration</th>\n",
       "      <th>num-of-doors</th>\n",
       "      <th>body-style</th>\n",
       "      <th>drive-wheels</th>\n",
       "      <th>curb-weight</th>\n",
       "      <th>engine-type</th>\n",
       "      <th>num-of-cylinders</th>\n",
       "      <th>engine-size</th>\n",
       "      <th>fuel-system</th>\n",
       "      <th>horsepower</th>\n",
       "      <th>peak-rpm</th>\n",
       "      <th>city-mpg</th>\n",
       "      <th>highway-mpg</th>\n",
       "    </tr>\n",
       "  </thead>\n",
       "  <tbody>\n",
       "    <tr>\n",
       "      <th>137</th>\n",
       "      <td>saab</td>\n",
       "      <td>gas</td>\n",
       "      <td>turbo</td>\n",
       "      <td>four</td>\n",
       "      <td>sedan</td>\n",
       "      <td>fwd</td>\n",
       "      <td>2847.0</td>\n",
       "      <td>dohc</td>\n",
       "      <td>four</td>\n",
       "      <td>121.0</td>\n",
       "      <td>mpfi</td>\n",
       "      <td>160.0</td>\n",
       "      <td>5500.0</td>\n",
       "      <td>19.0</td>\n",
       "      <td>26.0</td>\n",
       "    </tr>\n",
       "    <tr>\n",
       "      <th>158</th>\n",
       "      <td>toyota</td>\n",
       "      <td>diesel</td>\n",
       "      <td>std</td>\n",
       "      <td>four</td>\n",
       "      <td>sedan</td>\n",
       "      <td>fwd</td>\n",
       "      <td>2275.0</td>\n",
       "      <td>ohc</td>\n",
       "      <td>four</td>\n",
       "      <td>110.0</td>\n",
       "      <td>idi</td>\n",
       "      <td>56.0</td>\n",
       "      <td>4500.0</td>\n",
       "      <td>34.0</td>\n",
       "      <td>36.0</td>\n",
       "    </tr>\n",
       "    <tr>\n",
       "      <th>26</th>\n",
       "      <td>dodge</td>\n",
       "      <td>gas</td>\n",
       "      <td>std</td>\n",
       "      <td>four</td>\n",
       "      <td>sedan</td>\n",
       "      <td>fwd</td>\n",
       "      <td>1989.0</td>\n",
       "      <td>ohc</td>\n",
       "      <td>four</td>\n",
       "      <td>90.0</td>\n",
       "      <td>2bbl</td>\n",
       "      <td>68.0</td>\n",
       "      <td>5500.0</td>\n",
       "      <td>31.0</td>\n",
       "      <td>38.0</td>\n",
       "    </tr>\n",
       "    <tr>\n",
       "      <th>106</th>\n",
       "      <td>nissan</td>\n",
       "      <td>gas</td>\n",
       "      <td>std</td>\n",
       "      <td>two</td>\n",
       "      <td>hatchback</td>\n",
       "      <td>rwd</td>\n",
       "      <td>3139.0</td>\n",
       "      <td>ohcv</td>\n",
       "      <td>six</td>\n",
       "      <td>181.0</td>\n",
       "      <td>mpfi</td>\n",
       "      <td>160.0</td>\n",
       "      <td>5200.0</td>\n",
       "      <td>19.0</td>\n",
       "      <td>25.0</td>\n",
       "    </tr>\n",
       "    <tr>\n",
       "      <th>151</th>\n",
       "      <td>toyota</td>\n",
       "      <td>gas</td>\n",
       "      <td>std</td>\n",
       "      <td>two</td>\n",
       "      <td>hatchback</td>\n",
       "      <td>fwd</td>\n",
       "      <td>2040.0</td>\n",
       "      <td>ohc</td>\n",
       "      <td>four</td>\n",
       "      <td>92.0</td>\n",
       "      <td>2bbl</td>\n",
       "      <td>62.0</td>\n",
       "      <td>4800.0</td>\n",
       "      <td>31.0</td>\n",
       "      <td>38.0</td>\n",
       "    </tr>\n",
       "    <tr>\n",
       "      <th>122</th>\n",
       "      <td>plymouth</td>\n",
       "      <td>gas</td>\n",
       "      <td>std</td>\n",
       "      <td>four</td>\n",
       "      <td>sedan</td>\n",
       "      <td>fwd</td>\n",
       "      <td>2191.0</td>\n",
       "      <td>ohc</td>\n",
       "      <td>four</td>\n",
       "      <td>98.0</td>\n",
       "      <td>2bbl</td>\n",
       "      <td>68.0</td>\n",
       "      <td>5500.0</td>\n",
       "      <td>31.0</td>\n",
       "      <td>38.0</td>\n",
       "    </tr>\n",
       "  </tbody>\n",
       "</table>\n",
       "</div>"
      ],
      "text/plain": [
       "         make fuel-type aspiration num-of-doors body-style drive-wheels  \\\n",
       "137      saab       gas      turbo         four      sedan          fwd   \n",
       "158    toyota    diesel        std         four      sedan          fwd   \n",
       "26      dodge       gas        std         four      sedan          fwd   \n",
       "106    nissan       gas        std          two  hatchback          rwd   \n",
       "151    toyota       gas        std          two  hatchback          fwd   \n",
       "122  plymouth       gas        std         four      sedan          fwd   \n",
       "\n",
       "     curb-weight engine-type num-of-cylinders  engine-size fuel-system  \\\n",
       "137       2847.0        dohc             four        121.0        mpfi   \n",
       "158       2275.0         ohc             four        110.0         idi   \n",
       "26        1989.0         ohc             four         90.0        2bbl   \n",
       "106       3139.0        ohcv              six        181.0        mpfi   \n",
       "151       2040.0         ohc             four         92.0        2bbl   \n",
       "122       2191.0         ohc             four         98.0        2bbl   \n",
       "\n",
       "     horsepower  peak-rpm  city-mpg  highway-mpg  \n",
       "137       160.0    5500.0      19.0         26.0  \n",
       "158        56.0    4500.0      34.0         36.0  \n",
       "26         68.0    5500.0      31.0         38.0  \n",
       "106       160.0    5200.0      19.0         25.0  \n",
       "151        62.0    4800.0      31.0         38.0  \n",
       "122        68.0    5500.0      31.0         38.0  "
      ]
     },
     "execution_count": 50,
     "metadata": {},
     "output_type": "execute_result"
    }
   ],
   "source": [
    "compare_df"
   ]
  },
  {
   "cell_type": "code",
   "execution_count": 51,
   "metadata": {
    "collapsed": true
   },
   "outputs": [],
   "source": [
    "compare_df['actual-price'] = y_predict\n",
    "compare_df['predicted-price'] = predicted_prices"
   ]
  },
  {
   "cell_type": "code",
   "execution_count": 52,
   "metadata": {},
   "outputs": [
    {
     "data": {
      "text/html": [
       "<div>\n",
       "<style scoped>\n",
       "    .dataframe tbody tr th:only-of-type {\n",
       "        vertical-align: middle;\n",
       "    }\n",
       "\n",
       "    .dataframe tbody tr th {\n",
       "        vertical-align: top;\n",
       "    }\n",
       "\n",
       "    .dataframe thead th {\n",
       "        text-align: right;\n",
       "    }\n",
       "</style>\n",
       "<table border=\"1\" class=\"dataframe\">\n",
       "  <thead>\n",
       "    <tr style=\"text-align: right;\">\n",
       "      <th></th>\n",
       "      <th>make</th>\n",
       "      <th>fuel-type</th>\n",
       "      <th>aspiration</th>\n",
       "      <th>num-of-doors</th>\n",
       "      <th>body-style</th>\n",
       "      <th>drive-wheels</th>\n",
       "      <th>curb-weight</th>\n",
       "      <th>engine-type</th>\n",
       "      <th>num-of-cylinders</th>\n",
       "      <th>engine-size</th>\n",
       "      <th>fuel-system</th>\n",
       "      <th>horsepower</th>\n",
       "      <th>peak-rpm</th>\n",
       "      <th>city-mpg</th>\n",
       "      <th>highway-mpg</th>\n",
       "      <th>actual-price</th>\n",
       "      <th>predicted-price</th>\n",
       "    </tr>\n",
       "  </thead>\n",
       "  <tbody>\n",
       "    <tr>\n",
       "      <th>137</th>\n",
       "      <td>saab</td>\n",
       "      <td>gas</td>\n",
       "      <td>turbo</td>\n",
       "      <td>four</td>\n",
       "      <td>sedan</td>\n",
       "      <td>fwd</td>\n",
       "      <td>2847.0</td>\n",
       "      <td>dohc</td>\n",
       "      <td>four</td>\n",
       "      <td>121.0</td>\n",
       "      <td>mpfi</td>\n",
       "      <td>160.0</td>\n",
       "      <td>5500.0</td>\n",
       "      <td>19.0</td>\n",
       "      <td>26.0</td>\n",
       "      <td>18620.0</td>\n",
       "      <td>12254.648209</td>\n",
       "    </tr>\n",
       "    <tr>\n",
       "      <th>158</th>\n",
       "      <td>toyota</td>\n",
       "      <td>diesel</td>\n",
       "      <td>std</td>\n",
       "      <td>four</td>\n",
       "      <td>sedan</td>\n",
       "      <td>fwd</td>\n",
       "      <td>2275.0</td>\n",
       "      <td>ohc</td>\n",
       "      <td>four</td>\n",
       "      <td>110.0</td>\n",
       "      <td>idi</td>\n",
       "      <td>56.0</td>\n",
       "      <td>4500.0</td>\n",
       "      <td>34.0</td>\n",
       "      <td>36.0</td>\n",
       "      <td>7898.0</td>\n",
       "      <td>9588.765502</td>\n",
       "    </tr>\n",
       "    <tr>\n",
       "      <th>26</th>\n",
       "      <td>dodge</td>\n",
       "      <td>gas</td>\n",
       "      <td>std</td>\n",
       "      <td>four</td>\n",
       "      <td>sedan</td>\n",
       "      <td>fwd</td>\n",
       "      <td>1989.0</td>\n",
       "      <td>ohc</td>\n",
       "      <td>four</td>\n",
       "      <td>90.0</td>\n",
       "      <td>2bbl</td>\n",
       "      <td>68.0</td>\n",
       "      <td>5500.0</td>\n",
       "      <td>31.0</td>\n",
       "      <td>38.0</td>\n",
       "      <td>7609.0</td>\n",
       "      <td>9387.082458</td>\n",
       "    </tr>\n",
       "    <tr>\n",
       "      <th>106</th>\n",
       "      <td>nissan</td>\n",
       "      <td>gas</td>\n",
       "      <td>std</td>\n",
       "      <td>two</td>\n",
       "      <td>hatchback</td>\n",
       "      <td>rwd</td>\n",
       "      <td>3139.0</td>\n",
       "      <td>ohcv</td>\n",
       "      <td>six</td>\n",
       "      <td>181.0</td>\n",
       "      <td>mpfi</td>\n",
       "      <td>160.0</td>\n",
       "      <td>5200.0</td>\n",
       "      <td>19.0</td>\n",
       "      <td>25.0</td>\n",
       "      <td>18399.0</td>\n",
       "      <td>13968.439102</td>\n",
       "    </tr>\n",
       "    <tr>\n",
       "      <th>151</th>\n",
       "      <td>toyota</td>\n",
       "      <td>gas</td>\n",
       "      <td>std</td>\n",
       "      <td>two</td>\n",
       "      <td>hatchback</td>\n",
       "      <td>fwd</td>\n",
       "      <td>2040.0</td>\n",
       "      <td>ohc</td>\n",
       "      <td>four</td>\n",
       "      <td>92.0</td>\n",
       "      <td>2bbl</td>\n",
       "      <td>62.0</td>\n",
       "      <td>4800.0</td>\n",
       "      <td>31.0</td>\n",
       "      <td>38.0</td>\n",
       "      <td>6338.0</td>\n",
       "      <td>8800.553679</td>\n",
       "    </tr>\n",
       "    <tr>\n",
       "      <th>122</th>\n",
       "      <td>plymouth</td>\n",
       "      <td>gas</td>\n",
       "      <td>std</td>\n",
       "      <td>four</td>\n",
       "      <td>sedan</td>\n",
       "      <td>fwd</td>\n",
       "      <td>2191.0</td>\n",
       "      <td>ohc</td>\n",
       "      <td>four</td>\n",
       "      <td>98.0</td>\n",
       "      <td>2bbl</td>\n",
       "      <td>68.0</td>\n",
       "      <td>5500.0</td>\n",
       "      <td>31.0</td>\n",
       "      <td>38.0</td>\n",
       "      <td>7609.0</td>\n",
       "      <td>10022.211075</td>\n",
       "    </tr>\n",
       "  </tbody>\n",
       "</table>\n",
       "</div>"
      ],
      "text/plain": [
       "         make fuel-type aspiration num-of-doors body-style drive-wheels  \\\n",
       "137      saab       gas      turbo         four      sedan          fwd   \n",
       "158    toyota    diesel        std         four      sedan          fwd   \n",
       "26      dodge       gas        std         four      sedan          fwd   \n",
       "106    nissan       gas        std          two  hatchback          rwd   \n",
       "151    toyota       gas        std          two  hatchback          fwd   \n",
       "122  plymouth       gas        std         four      sedan          fwd   \n",
       "\n",
       "     curb-weight engine-type num-of-cylinders  engine-size fuel-system  \\\n",
       "137       2847.0        dohc             four        121.0        mpfi   \n",
       "158       2275.0         ohc             four        110.0         idi   \n",
       "26        1989.0         ohc             four         90.0        2bbl   \n",
       "106       3139.0        ohcv              six        181.0        mpfi   \n",
       "151       2040.0         ohc             four         92.0        2bbl   \n",
       "122       2191.0         ohc             four         98.0        2bbl   \n",
       "\n",
       "     horsepower  peak-rpm  city-mpg  highway-mpg  actual-price  \\\n",
       "137       160.0    5500.0      19.0         26.0       18620.0   \n",
       "158        56.0    4500.0      34.0         36.0        7898.0   \n",
       "26         68.0    5500.0      31.0         38.0        7609.0   \n",
       "106       160.0    5200.0      19.0         25.0       18399.0   \n",
       "151        62.0    4800.0      31.0         38.0        6338.0   \n",
       "122        68.0    5500.0      31.0         38.0        7609.0   \n",
       "\n",
       "     predicted-price  \n",
       "137     12254.648209  \n",
       "158      9588.765502  \n",
       "26       9387.082458  \n",
       "106     13968.439102  \n",
       "151      8800.553679  \n",
       "122     10022.211075  "
      ]
     },
     "execution_count": 52,
     "metadata": {},
     "output_type": "execute_result"
    }
   ],
   "source": [
    "compare_df"
   ]
  },
  {
   "cell_type": "code",
   "execution_count": null,
   "metadata": {
    "collapsed": true
   },
   "outputs": [],
   "source": []
  },
  {
   "cell_type": "code",
   "execution_count": null,
   "metadata": {
    "collapsed": true
   },
   "outputs": [],
   "source": []
  },
  {
   "cell_type": "code",
   "execution_count": null,
   "metadata": {
    "collapsed": true
   },
   "outputs": [],
   "source": []
  },
  {
   "cell_type": "code",
   "execution_count": null,
   "metadata": {
    "collapsed": true
   },
   "outputs": [],
   "source": []
  }
 ],
 "metadata": {
  "kernelspec": {
   "display_name": "Python 3",
   "language": "python",
   "name": "python3"
  },
  "language_info": {
   "codemirror_mode": {
    "name": "ipython",
    "version": 3
   },
   "file_extension": ".py",
   "mimetype": "text/x-python",
   "name": "python",
   "nbconvert_exporter": "python",
   "pygments_lexer": "ipython3",
   "version": "3.6.2"
  }
 },
 "nbformat": 4,
 "nbformat_minor": 2
}
